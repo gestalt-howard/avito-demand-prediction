{
 "cells": [
  {
   "cell_type": "markdown",
   "metadata": {},
   "source": [
    "# Avito Challenge: Stage 2v1 Model\n",
    "This Stage 2v1 Model also draws inspiration from a public kernel (https://www.kaggle.com/tunguz/bow-meta-text-and-dense-features-lb-0-2241/code). In this model builds on top of 2v0 with a TFIDF component and text meta-features."
   ]
  },
  {
   "cell_type": "code",
   "execution_count": 1,
   "metadata": {},
   "outputs": [],
   "source": [
    "import pandas as pd\n",
    "import numpy as np\n",
    "import os\n",
    "import json\n",
    "import pickle\n",
    "import nltk\n",
    "from nltk.corpus import stopwords\n",
    "\n",
    "import matplotlib.pyplot as plt\n",
    "\n",
    "from sklearn.model_selection import train_test_split\n",
    "from sklearn.preprocessing import StandardScaler\n",
    "\n",
    "from sklearn.metrics import mean_squared_error\n",
    "from sklearn.metrics import log_loss\n",
    "from sklearn.metrics import accuracy_score\n",
    "\n",
    "from sklearn.utils import resample\n",
    "from sklearn.preprocessing import LabelEncoder\n",
    "from sklearn.pipeline import FeatureUnion\n",
    "\n",
    "from sklearn.feature_extraction.text import TfidfVectorizer\n",
    "from sklearn.feature_extraction.text import CountVectorizer\n",
    "\n",
    "from scipy.sparse import hstack, csr_matrix\n",
    "\n",
    "import lightgbm as lgb"
   ]
  },
  {
   "cell_type": "code",
   "execution_count": 2,
   "metadata": {},
   "outputs": [],
   "source": [
    "import sys\n",
    "reload(sys)\n",
    "sys.setdefaultencoding('utf8')"
   ]
  },
  {
   "cell_type": "code",
   "execution_count": 3,
   "metadata": {},
   "outputs": [],
   "source": [
    "# Load parameters file\n",
    "with open('setup_param.json', 'r') as handle:\n",
    "    setup_params = json.load(handle)"
   ]
  },
  {
   "cell_type": "code",
   "execution_count": 29,
   "metadata": {},
   "outputs": [],
   "source": [
    "parent_path = setup_params['parent_dir']\n",
    "data_path = setup_params['data_dir']\n",
    "scripts_path = setup_params['scripts_dir']\n",
    "train_csv_path = setup_params['train_csv']\n",
    "test_csv_path = setup_params['test_csv']\n",
    "\n",
    "# Training and test metadata\n",
    "labels_path = setup_params['train_labels']\n",
    "test_items_path = setup_params['test_items']\n",
    "\n",
    "model_path_2 = setup_params['model_dir_2']"
   ]
  },
  {
   "cell_type": "markdown",
   "metadata": {},
   "source": [
    "## Loading Data Stage:"
   ]
  },
  {
   "cell_type": "code",
   "execution_count": 5,
   "metadata": {},
   "outputs": [],
   "source": [
    "# Original training and test dataframes\n",
    "training = pd.read_csv(train_csv_path, index_col='item_id', parse_dates=['activation_date'])\n",
    "traindex = training.index\n",
    "testing = pd.read_csv(test_csv_path, index_col='item_id', parse_dates=['activation_date'])\n",
    "testdex = testing.index"
   ]
  },
  {
   "cell_type": "code",
   "execution_count": 6,
   "metadata": {},
   "outputs": [],
   "source": [
    "y = training.deal_probability.copy()"
   ]
  },
  {
   "cell_type": "code",
   "execution_count": 7,
   "metadata": {},
   "outputs": [],
   "source": [
    "training.drop(\"deal_probability\",axis=1, inplace=True)"
   ]
  },
  {
   "cell_type": "code",
   "execution_count": 8,
   "metadata": {},
   "outputs": [],
   "source": [
    "print('Train shape: {} Rows, {} Columns'.format(*training.shape))\n",
    "print('Test shape: {} Rows, {} Columns'.format(*testing.shape))"
   ]
  },
  {
   "cell_type": "markdown",
   "metadata": {},
   "source": [
    "## Combining Train and Test:"
   ]
  },
  {
   "cell_type": "code",
   "execution_count": 9,
   "metadata": {},
   "outputs": [],
   "source": [
    "df = pd.concat([training, testing], axis=0)\n",
    "print('All data shape: {} Rows, {} Columns'.format(*df.shape))"
   ]
  },
  {
   "cell_type": "markdown",
   "metadata": {},
   "source": [
    "## Feature Engineering:"
   ]
  },
  {
   "cell_type": "code",
   "execution_count": 10,
   "metadata": {},
   "outputs": [],
   "source": [
    "df['price'] = np.log(df['price'] + 0.001)\n",
    "df['price'].fillna(-999, inplace=True)\n",
    "df['image_top_1'].fillna(-999, inplace=True)"
   ]
  },
  {
   "cell_type": "code",
   "execution_count": 11,
   "metadata": {},
   "outputs": [],
   "source": [
    "# Create time variables\n",
    "df['Weekday'] = df['activation_date'].dt.weekday\n",
    "df['Week of Year'] = df['activation_date'].dt.week\n",
    "df['Day of Month'] = df['activation_date'].dt.day\n",
    "df.drop(['activation_date', 'image'], axis=1, inplace=True)"
   ]
  },
  {
   "cell_type": "code",
   "execution_count": 12,
   "metadata": {},
   "outputs": [],
   "source": [
    "# Encode variables\n",
    "categorical = [\"user_id\",\"region\",\"city\",\"parent_category_name\",\"category_name\",\"user_type\",\"image_top_1\"]\n",
    "lbl = LabelEncoder()\n",
    "for col in categorical:\n",
    "    df[col] = lbl.fit_transform(df[col].astype(str))"
   ]
  },
  {
   "cell_type": "markdown",
   "metadata": {},
   "source": [
    "### Text Features:"
   ]
  },
  {
   "cell_type": "code",
   "execution_count": 13,
   "metadata": {},
   "outputs": [],
   "source": [
    "df['text_feat'] = df.apply(lambda row: ' '.join([str(row['param_1']), str(row['param_2']), str(row['param_3'])]), \n",
    "                           axis=1)\n",
    "df.drop(['param_1', 'param_2', 'param_3'], axis=1, inplace=True)"
   ]
  },
  {
   "cell_type": "code",
   "execution_count": 14,
   "metadata": {},
   "outputs": [],
   "source": [
    "# Meta text features\n",
    "textfeats = ['description', 'text_feat', 'title']\n",
    "for cols in textfeats:\n",
    "    df[cols] = df[cols].astype(str)\n",
    "    df[cols] = df[cols].astype(str).fillna('highscoreftw')\n",
    "    df[cols] = df[cols].str.lower()\n",
    "    df[cols + '_num_chars'] = df[cols].apply(len)\n",
    "    df[cols + '_num_words'] = df[cols].apply(lambda comment: len(comment.split()))\n",
    "    df[cols + '_num_unique_words'] = df[cols].apply(lambda comment: len(set(w for w in comment.split())))\n",
    "    df[cols + '_words_vs_unique'] = df[cols + '_num_unique_words'] / df[cols + '_num_words'] * 100"
   ]
  },
  {
   "cell_type": "code",
   "execution_count": 15,
   "metadata": {},
   "outputs": [],
   "source": [
    "# TFIDF Stage\n",
    "russian_stop = set(stopwords.words('russian'))"
   ]
  },
  {
   "cell_type": "code",
   "execution_count": 16,
   "metadata": {},
   "outputs": [],
   "source": [
    "# Resolve unicode decoding errors\n",
    "for cols in textfeats:\n",
    "    df[cols] = df[cols].str.decode('utf8')"
   ]
  },
  {
   "cell_type": "code",
   "execution_count": 17,
   "metadata": {},
   "outputs": [],
   "source": [
    "tfidf_para = {\n",
    "    'stop_words': russian_stop,\n",
    "    'analyzer': 'word',\n",
    "    'token_pattern': r'\\w{1,}', \n",
    "    'sublinear_tf': True,\n",
    "    'dtype': np.float32,\n",
    "    'norm': 'l2',\n",
    "    'smooth_idf': False,\n",
    "    'strip_accents': 'unicode', \n",
    "    'encoding': 'utf8',\n",
    "    'decode_error': 'ignore'\n",
    "}"
   ]
  },
  {
   "cell_type": "code",
   "execution_count": 18,
   "metadata": {},
   "outputs": [],
   "source": [
    "# Function for overriding preprocessing (string transformation)\n",
    "def get_col(col_name): return lambda x: x[col_name]"
   ]
  },
  {
   "cell_type": "code",
   "execution_count": 19,
   "metadata": {},
   "outputs": [],
   "source": [
    "vectorizer = FeatureUnion([\n",
    "    ('description', TfidfVectorizer( \n",
    "        max_features=16000,\n",
    "        ngram_range = (1, 2),\n",
    "        preprocessor=get_col('description'),\n",
    "        **tfidf_para)),\n",
    "    ('text_feat', CountVectorizer(\n",
    "        ngram_range=(1, 2),\n",
    "        decode_error = 'ignore',\n",
    "        preprocessor=get_col('text_feat'))),\n",
    "    ('title', TfidfVectorizer(\n",
    "        ngram_range = (1, 2),\n",
    "        preprocessor=get_col('title'),\n",
    "        **tfidf_para))\n",
    "])"
   ]
  },
  {
   "cell_type": "code",
   "execution_count": 20,
   "metadata": {},
   "outputs": [],
   "source": [
    "vectorizer.fit(df.loc[traindex, :].to_dict('records'))\n",
    "ready_df = vectorizer.transform(df.to_dict('records'))\n",
    "tfvocab = vectorizer.get_feature_names()"
   ]
  },
  {
   "cell_type": "code",
   "execution_count": 21,
   "metadata": {},
   "outputs": [],
   "source": [
    "# Drop text columns\n",
    "df.drop(textfeats, axis=1, inplace=True)"
   ]
  },
  {
   "cell_type": "markdown",
   "metadata": {},
   "source": [
    "## Modeling Stage:"
   ]
  },
  {
   "cell_type": "code",
   "execution_count": 22,
   "metadata": {},
   "outputs": [],
   "source": [
    "# Combine dense features with sparse text bag of words features\n",
    "X = hstack([csr_matrix(df.loc[traindex, :].values), ready_df[0:traindex.shape[0]]])  # Sparse matrix\n",
    "testing = hstack([csr_matrix(df.loc[testdex, :].values), ready_df[traindex.shape[0]:]])\n",
    "tfvocab = df.columns.tolist() + tfvocab\n",
    "for shape in [X,testing]:\n",
    "    print(\"{} Rows and {} Cols\".format(*shape.shape))\n",
    "print(\"Feature Names Length: \",len(tfvocab))"
   ]
  },
  {
   "cell_type": "code",
   "execution_count": 23,
   "metadata": {},
   "outputs": [],
   "source": [
    "X_train, X_valid, y_train, y_valid = train_test_split(X, y, test_size=0.10, random_state=23)"
   ]
  },
  {
   "cell_type": "code",
   "execution_count": 24,
   "metadata": {},
   "outputs": [],
   "source": [
    "lgbm_params =  {\n",
    "    'task': 'train',\n",
    "    'boosting_type': 'gbdt',\n",
    "    'objective': 'regression',\n",
    "    'metric': 'rmse',\n",
    "    'max_depth': 15,\n",
    "    'num_leaves': 37,\n",
    "    'feature_fraction': 0.7,\n",
    "    'bagging_fraction': 0.8,\n",
    "    'learning_rate': 0.19,\n",
    "    'verbose': 1\n",
    "}"
   ]
  },
  {
   "cell_type": "code",
   "execution_count": 25,
   "metadata": {},
   "outputs": [],
   "source": [
    "# LGBM Dataset Formatting \n",
    "lgtrain = lgb.Dataset(X_train, y_train, feature_name=tfvocab, categorical_feature = categorical)\n",
    "lgvalid = lgb.Dataset(X_valid, y_valid, feature_name=tfvocab, categorical_feature = categorical)"
   ]
  },
  {
   "cell_type": "code",
   "execution_count": 26,
   "metadata": {},
   "outputs": [],
   "source": [
    "lgb_clf = lgb.train(\n",
    "    lgbm_params,\n",
    "    lgtrain,\n",
    "    num_boost_round=1600,\n",
    "    valid_sets=[lgtrain, lgvalid],\n",
    "    valid_names=['train','valid'],\n",
    "    early_stopping_rounds=200,\n",
    "    verbose_eval=200\n",
    ")"
   ]
  },
  {
   "cell_type": "code",
   "execution_count": 27,
   "metadata": {},
   "outputs": [
    {
     "data": {
      "text/plain": [
       "Text(0.5,1,u'Light GBM Feature Importance')"
      ]
     },
     "execution_count": 27,
     "metadata": {},
     "output_type": "execute_result"
    },
    {
     "data": {
      "image/png": "[encoded data removed]",
      "text/plain": [
       "<matplotlib.figure.Figure at 0x14c572b50>"
      ]
     },
     "metadata": {},
     "output_type": "display_data"
    }
   ],
   "source": [
    "# Feature Importance Plot\n",
    "f, ax = plt.subplots(figsize=[7,10])\n",
    "lgb.plot_importance(lgb_clf, max_num_features=50, ax=ax)\n",
    "plt.title(\"Light GBM Feature Importance\")"
   ]
  },
  {
   "cell_type": "code",
   "execution_count": 30,
   "metadata": {},
   "outputs": [],
   "source": [
    "print \"Model Evaluation Stage\"\n",
    "print 'RMSE:', np.sqrt(mean_squared_error(y_valid, lgb_clf.predict(X_valid)))\n",
    "\n",
    "submission_path = model_path_2 + 'tfidf_lgb.csv'\n",
    "lgpred = lgb_clf.predict(testing)\n",
    "lgsub = pd.DataFrame(lgpred, columns=[\"deal_probability\"], index=testdex)\n",
    "lgsub['deal_probability'].clip(0.0, 1.0, inplace=True)  # Between 0 and 1\n",
    "lgsub.to_csv(submission_path, index=True, header=True)"
   ]
  },
  {
   "cell_type": "code",
   "execution_count": null,
   "metadata": {},
   "outputs": [],
   "source": []
  }
 ],
 "metadata": {
  "kernelspec": {
   "display_name": "Python 2",
   "language": "python",
   "name": "python2"
  },
  "language_info": {
   "codemirror_mode": {
    "name": "ipython",
    "version": 2
   },
   "file_extension": ".py",
   "mimetype": "text/x-python",
   "name": "python",
   "nbconvert_exporter": "python",
   "pygments_lexer": "ipython2",
   "version": "2.7.14"
  }
 },
 "nbformat": 4,
 "nbformat_minor": 2
}
