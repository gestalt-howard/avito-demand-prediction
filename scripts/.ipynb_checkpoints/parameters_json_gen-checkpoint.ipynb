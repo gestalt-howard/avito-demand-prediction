{
 "cells": [
  {
   "cell_type": "code",
   "execution_count": 1,
   "metadata": {},
   "outputs": [],
   "source": [
    "# Script for generating configuration json file\n",
    "import json\n",
    "import os"
   ]
  },
  {
   "cell_type": "code",
   "execution_count": 2,
   "metadata": {},
   "outputs": [
    {
     "name": "stdout",
     "output_type": "stream",
     "text": [
      "/Users/cheng-haotai/Projects_Data/avito-demand-prediction\n",
      "/Users/cheng-haotai/Projects_Data/avito-demand-prediction/scripts\n"
     ]
    }
   ],
   "source": [
    "# Change directory and assign parent path\n",
    "%cd ..\n",
    "parent_path = !pwd\n",
    "%cd ./scripts/"
   ]
  },
  {
   "cell_type": "code",
   "execution_count": 3,
   "metadata": {},
   "outputs": [
    {
     "name": "stdout",
     "output_type": "stream",
     "text": [
      "/Users/cheng-haotai/Projects_Data/avito-demand-prediction/\n"
     ]
    }
   ],
   "source": [
    "parent_path = parent_path[0] + '/'\n",
    "print(parent_path)"
   ]
  },
  {
   "cell_type": "code",
   "execution_count": 4,
   "metadata": {},
   "outputs": [
    {
     "name": "stdout",
     "output_type": "stream",
     "text": [
      "/Users/cheng-haotai/Projects_Data/avito-demand-prediction/data/\n"
     ]
    }
   ],
   "source": [
    "data_path = parent_path + 'data/'\n",
    "print(data_path)"
   ]
  },
  {
   "cell_type": "code",
   "execution_count": 5,
   "metadata": {},
   "outputs": [],
   "source": [
    "var_dict = {}\n",
    "var_dict['parent_dir'] = parent_path\n",
    "var_dict['data_dir'] = data_path"
   ]
  },
  {
   "cell_type": "code",
   "execution_count": 6,
   "metadata": {},
   "outputs": [
    {
     "name": "stdout",
     "output_type": "stream",
     "text": [
      "rm: /Users/cheng-haotai/Projects_Data/avito-demand-prediction/setup_param.json: No such file or directory\r\n"
     ]
    }
   ],
   "source": [
    "json_name = parent_path + 'setup_param.json'\n",
    "%rm $json_name  # Remove file if it exists \n",
    "with open(json_name, 'w') as handle:\n",
    "    json.dump(var_dict, handle)"
   ]
  },
  {
   "cell_type": "code",
   "execution_count": 7,
   "metadata": {},
   "outputs": [
    {
     "name": "stdout",
     "output_type": "stream",
     "text": [
      "Untitled.ipynb            parameters_json_gen.ipynb\r\n"
     ]
    }
   ],
   "source": [
    "!ls"
   ]
  },
  {
   "cell_type": "code",
   "execution_count": 8,
   "metadata": {},
   "outputs": [],
   "source": [
    "with open(json_name, 'r') as handle:\n",
    "    setup_param = json.load(handle)"
   ]
  },
  {
   "cell_type": "code",
   "execution_count": 9,
   "metadata": {},
   "outputs": [
    {
     "name": "stdout",
     "output_type": "stream",
     "text": [
      "{u'data_dir': u'/Users/cheng-haotai/Projects_Data/avito-demand-prediction/data/', u'parent_dir': u'/Users/cheng-haotai/Projects_Data/avito-demand-prediction/'}\n"
     ]
    }
   ],
   "source": [
    "print(setup_param)"
   ]
  },
  {
   "cell_type": "code",
   "execution_count": null,
   "metadata": {},
   "outputs": [],
   "source": []
  }
 ],
 "metadata": {
  "kernelspec": {
   "display_name": "Python 2",
   "language": "python",
   "name": "python2"
  },
  "language_info": {
   "codemirror_mode": {
    "name": "ipython",
    "version": 2
   },
   "file_extension": ".py",
   "mimetype": "text/x-python",
   "name": "python",
   "nbconvert_exporter": "python",
   "pygments_lexer": "ipython2",
   "version": "2.7.14"
  }
 },
 "nbformat": 4,
 "nbformat_minor": 2
}
