{
 "cells": [
  {
   "cell_type": "code",
   "execution_count": 1,
   "metadata": {},
   "outputs": [],
   "source": [
    "# Script for generating configuration json file\n",
    "import json\n",
    "import os"
   ]
  },
  {
   "cell_type": "code",
   "execution_count": 2,
   "metadata": {},
   "outputs": [
    {
     "name": "stdout",
     "output_type": "stream",
     "text": [
      "/Users/cheng-haotai/Projects_Data/avito-demand-prediction\n",
      "/Users/cheng-haotai/Projects_Data/avito-demand-prediction/scripts\n"
     ]
    }
   ],
   "source": [
    "# Change directory and assign parent path\n",
    "%cd ..\n",
    "parent_path = !pwd\n",
    "%cd ./scripts/"
   ]
  },
  {
   "cell_type": "code",
   "execution_count": 3,
   "metadata": {},
   "outputs": [
    {
     "name": "stdout",
     "output_type": "stream",
     "text": [
      "/Users/cheng-haotai/Projects_Data/avito-demand-prediction/\n"
     ]
    }
   ],
   "source": [
    "parent_path = parent_path[0] + '/'\n",
    "print(parent_path)"
   ]
  },
  {
   "cell_type": "code",
   "execution_count": 4,
   "metadata": {},
   "outputs": [
    {
     "name": "stdout",
     "output_type": "stream",
     "text": [
      "/Users/cheng-haotai/Projects_Data/avito-demand-prediction/scripts/\n",
      "/Users/cheng-haotai/Projects_Data/avito-demand-prediction/data/\n"
     ]
    }
   ],
   "source": [
    "scripts_path = parent_path + 'scripts/'\n",
    "print(scripts_path)\n",
    "data_path = parent_path + 'data/'\n",
    "print(data_path)"
   ]
  },
  {
   "cell_type": "code",
   "execution_count": 5,
   "metadata": {},
   "outputs": [],
   "source": [
    "train_csv = data_path + 'train.csv'\n",
    "test_csv = data_path + 'test.csv'"
   ]
  },
  {
   "cell_type": "code",
   "execution_count": 6,
   "metadata": {},
   "outputs": [],
   "source": [
    "var_dict = {}\n",
    "var_dict['parent_dir'] = parent_path\n",
    "var_dict['data_dir'] = data_path\n",
    "var_dict['scripts_dir'] = scripts_path\n",
    "var_dict['train_csv'] = train_csv\n",
    "var_dict['test_csv'] = test_csv"
   ]
  },
  {
   "cell_type": "code",
   "execution_count": 7,
   "metadata": {},
   "outputs": [
    {
     "name": "stdout",
     "output_type": "stream",
     "text": [
      "rm: /Users/cheng-haotai/Projects_Data/avito-demand-prediction/scripts/setup_param.json: No such file or directory\r\n"
     ]
    }
   ],
   "source": [
    "json_name = scripts_path + 'setup_param.json'\n",
    "%rm $json_name  # Remove file if it exists \n",
    "with open(json_name, 'w') as handle:\n",
    "    json.dump(var_dict, handle)"
   ]
  },
  {
   "cell_type": "code",
   "execution_count": 8,
   "metadata": {},
   "outputs": [
    {
     "name": "stdout",
     "output_type": "stream",
     "text": [
      "Stage_0_Data_Exploration.ipynb setup_param.json\r\n",
      "parameters_json_gen.ipynb\r\n"
     ]
    }
   ],
   "source": [
    "!ls"
   ]
  },
  {
   "cell_type": "code",
   "execution_count": 9,
   "metadata": {},
   "outputs": [],
   "source": [
    "with open(json_name, 'r') as handle:\n",
    "    setup_param = json.load(handle)"
   ]
  },
  {
   "cell_type": "code",
   "execution_count": 10,
   "metadata": {},
   "outputs": [
    {
     "name": "stdout",
     "output_type": "stream",
     "text": [
      "{u'test_csv': u'/Users/cheng-haotai/Projects_Data/avito-demand-prediction/data/test.csv', u'train_csv': u'/Users/cheng-haotai/Projects_Data/avito-demand-prediction/data/train.csv', u'data_dir': u'/Users/cheng-haotai/Projects_Data/avito-demand-prediction/data/', u'parent_dir': u'/Users/cheng-haotai/Projects_Data/avito-demand-prediction/', u'scripts_dir': u'/Users/cheng-haotai/Projects_Data/avito-demand-prediction/scripts/'}\n"
     ]
    }
   ],
   "source": [
    "print(setup_param)"
   ]
  },
  {
   "cell_type": "code",
   "execution_count": null,
   "metadata": {},
   "outputs": [],
   "source": []
  }
 ],
 "metadata": {
  "kernelspec": {
   "display_name": "Python 2",
   "language": "python",
   "name": "python2"
  },
  "language_info": {
   "codemirror_mode": {
    "name": "ipython",
    "version": 2
   },
   "file_extension": ".py",
   "mimetype": "text/x-python",
   "name": "python",
   "nbconvert_exporter": "python",
   "pygments_lexer": "ipython2",
   "version": "2.7.14"
  }
 },
 "nbformat": 4,
 "nbformat_minor": 2
}
