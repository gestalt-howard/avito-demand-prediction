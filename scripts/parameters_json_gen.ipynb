{
 "cells": [
  {
   "cell_type": "code",
   "execution_count": 1,
   "metadata": {},
   "outputs": [],
   "source": [
    "# Script for generating configuration json file\n",
    "import json\n",
    "import os"
   ]
  },
  {
   "cell_type": "code",
   "execution_count": 2,
   "metadata": {},
   "outputs": [
    {
     "name": "stdout",
     "output_type": "stream",
     "text": [
      "/Users/cheng-haotai/Projects_Data/avito-demand-prediction\n",
      "/Users/cheng-haotai/Projects_Data/avito-demand-prediction/scripts\n"
     ]
    }
   ],
   "source": [
    "# Change directory and assign parent path\n",
    "%cd ..\n",
    "parent_path = !pwd\n",
    "%cd ./scripts/"
   ]
  },
  {
   "cell_type": "code",
   "execution_count": 3,
   "metadata": {},
   "outputs": [
    {
     "name": "stdout",
     "output_type": "stream",
     "text": [
      "/Users/cheng-haotai/Projects_Data/avito-demand-prediction/\n"
     ]
    }
   ],
   "source": [
    "parent_path = parent_path[0] + '/'\n",
    "print(parent_path)"
   ]
  },
  {
   "cell_type": "code",
   "execution_count": 4,
   "metadata": {},
   "outputs": [
    {
     "name": "stdout",
     "output_type": "stream",
     "text": [
      "/Users/cheng-haotai/Projects_Data/avito-demand-prediction/scripts/\n",
      "/Users/cheng-haotai/Projects_Data/avito-demand-prediction/data/\n"
     ]
    }
   ],
   "source": [
    "scripts_path = parent_path + 'scripts/'\n",
    "print(scripts_path)\n",
    "data_path = parent_path + 'data/'\n",
    "print(data_path)"
   ]
  },
  {
   "cell_type": "code",
   "execution_count": 5,
   "metadata": {},
   "outputs": [],
   "source": [
    "train_csv = data_path + 'train.csv'\n",
    "test_csv = data_path + 'test.csv'\n",
    "\n",
    "train_labels = data_path + 'train_labels.csv'\n",
    "test_items = data_path + 'test_items.pkl'\n",
    "\n",
    "# Light GBM settings\n",
    "model_path_0 = data_path + 'models0/'\n",
    "model_path_1 = data_path + 'models1/'\n",
    "model_path_2 = data_path + 'models2/'"
   ]
  },
  {
   "cell_type": "code",
   "execution_count": 6,
   "metadata": {},
   "outputs": [],
   "source": [
    "var_dict = {}\n",
    "var_dict['parent_dir'] = parent_path\n",
    "var_dict['data_dir'] = data_path\n",
    "var_dict['scripts_dir'] = scripts_path\n",
    "var_dict['train_csv'] = train_csv\n",
    "var_dict['test_csv'] = test_csv\n",
    "\n",
    "var_dict['train_labels'] = train_labels\n",
    "var_dict['test_items'] = test_items\n",
    "\n",
    "# Light GBM settings\n",
    "var_dict['model_dir_0'] = model_path_0\n",
    "var_dict['model_dir_1'] = model_path_1\n",
    "var_dict['model_dir_2'] = model_path_2\n",
    "\n",
    "var_dict['stage0_train'] = data_path + 'train_data_stage0.csv'\n",
    "var_dict['stage0_test'] = data_path + 'test_data_stage0.csv'"
   ]
  },
  {
   "cell_type": "code",
   "execution_count": 7,
   "metadata": {},
   "outputs": [],
   "source": [
    "json_name = scripts_path + 'setup_param.json'\n",
    "%rm $json_name  # Remove file if it exists \n",
    "with open(json_name, 'w') as handle:\n",
    "    json.dump(var_dict, handle)"
   ]
  },
  {
   "cell_type": "code",
   "execution_count": 8,
   "metadata": {},
   "outputs": [
    {
     "name": "stdout",
     "output_type": "stream",
     "text": [
      "Blending.ipynb                 Stage_2v0_Experiment_0.ipynb\r\n",
      "Stage_0_Data_Exploration.ipynb Stage_2v0_Experiment_1.ipynb\r\n",
      "Stage_0_Model.ipynb            \u001b[34mblend\u001b[m\u001b[m\r\n",
      "Stage_1_Data_Exploration.ipynb parameters_json_gen.ipynb\r\n",
      "Stage_1v0_Model.ipynb          region_info_df.csv\r\n",
      "Stage_1v1_Model.ipynb          setup_param.json\r\n",
      "Stage_1v3_Model.ipynb\r\n"
     ]
    }
   ],
   "source": [
    "!ls"
   ]
  },
  {
   "cell_type": "code",
   "execution_count": 9,
   "metadata": {},
   "outputs": [],
   "source": [
    "with open(json_name, 'r') as handle:\n",
    "    setup_param = json.load(handle)"
   ]
  },
  {
   "cell_type": "code",
   "execution_count": 10,
   "metadata": {},
   "outputs": [
    {
     "name": "stdout",
     "output_type": "stream",
     "text": [
      "{u'train_labels': u'/Users/cheng-haotai/Projects_Data/avito-demand-prediction/data/train_labels.csv', u'test_csv': u'/Users/cheng-haotai/Projects_Data/avito-demand-prediction/data/test.csv', u'data_dir': u'/Users/cheng-haotai/Projects_Data/avito-demand-prediction/data/', u'train_csv': u'/Users/cheng-haotai/Projects_Data/avito-demand-prediction/data/train.csv', u'scripts_dir': u'/Users/cheng-haotai/Projects_Data/avito-demand-prediction/scripts/', u'stage0_train': u'/Users/cheng-haotai/Projects_Data/avito-demand-prediction/data/train_data_stage0.csv', u'stage0_test': u'/Users/cheng-haotai/Projects_Data/avito-demand-prediction/data/test_data_stage0.csv', u'test_items': u'/Users/cheng-haotai/Projects_Data/avito-demand-prediction/data/test_items.pkl', u'model_dir_1': u'/Users/cheng-haotai/Projects_Data/avito-demand-prediction/data/models1/', u'model_dir_0': u'/Users/cheng-haotai/Projects_Data/avito-demand-prediction/data/models0/', u'parent_dir': u'/Users/cheng-haotai/Projects_Data/avito-demand-prediction/', u'model_dir_2': u'/Users/cheng-haotai/Projects_Data/avito-demand-prediction/data/models2/'}\n"
     ]
    }
   ],
   "source": [
    "print(setup_param)"
   ]
  },
  {
   "cell_type": "code",
   "execution_count": null,
   "metadata": {},
   "outputs": [],
   "source": []
  }
 ],
 "metadata": {
  "kernelspec": {
   "display_name": "Python 2",
   "language": "python",
   "name": "python2"
  },
  "language_info": {
   "codemirror_mode": {
    "name": "ipython",
    "version": 2
   },
   "file_extension": ".py",
   "mimetype": "text/x-python",
   "name": "python",
   "nbconvert_exporter": "python",
   "pygments_lexer": "ipython2",
   "version": "2.7.14"
  }
 },
 "nbformat": 4,
 "nbformat_minor": 2
}
