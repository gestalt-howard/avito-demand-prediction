{
 "cells": [
  {
   "cell_type": "markdown",
   "metadata": {},
   "source": [
    "# Avito Deal Prediction: Stage 0 Model\n",
    "This notebook contains the first model used in the 2018 Avito Kaggle challenge. It uses data generated from Stage 0 preprocessing / data exploration and features a Light GBM gradient boosting model."
   ]
  },
  {
   "cell_type": "code",
   "execution_count": 1,
   "metadata": {},
   "outputs": [],
   "source": [
    "import pandas as pd\n",
    "import numpy as np\n",
    "import os\n",
    "import json\n",
    "import pickle\n",
    "\n",
    "import matplotlib.pyplot as plt\n",
    "\n",
    "from sklearn.model_selection import train_test_split\n",
    "from sklearn.preprocessing import StandardScaler\n",
    "\n",
    "from sklearn.metrics import mean_squared_error\n",
    "from sklearn.metrics import mean_absolute_error\n",
    "\n",
    "import lightgbm as lgb"
   ]
  },
  {
   "cell_type": "markdown",
   "metadata": {},
   "source": [
    "## Helper Functions:"
   ]
  },
  {
   "cell_type": "code",
   "execution_count": 2,
   "metadata": {},
   "outputs": [],
   "source": [
    "def make_submission(test_predictions, item_id_list, csv_path):\n",
    "    test_predictions = np.clip(test_predictions,0,1)\n",
    "    rows = np.stack((item_id_list, test_predictions)).T\n",
    "    df = pd.DataFrame(columns=['item_id', 'deal_probability'], data=rows)\n",
    "    df.to_csv(csv_path, index=False)\n",
    "    return None"
   ]
  },
  {
   "cell_type": "markdown",
   "metadata": {},
   "source": [
    "## Setup Parameters:"
   ]
  },
  {
   "cell_type": "markdown",
   "metadata": {},
   "source": [
    "### LightGBM Parameters:"
   ]
  },
  {
   "cell_type": "code",
   "execution_count": 3,
   "metadata": {},
   "outputs": [],
   "source": [
    "# LightGBM Params\n",
    "params = {}\n",
    "params['learning_rate'] = 0.021\n",
    "params['boosting_type'] = 'gbrt'\n",
    "params['objective'] = 'regression'\n",
    "params['metric'] = 'rmse'\n",
    "params['num_leaves'] = 30\n",
    "params['feature_fraction'] = 0.6\n",
    "params['bagging_fraction'] = .8"
   ]
  },
  {
   "cell_type": "markdown",
   "metadata": {},
   "source": [
    "### General Setup:"
   ]
  },
  {
   "cell_type": "code",
   "execution_count": 4,
   "metadata": {},
   "outputs": [],
   "source": [
    "# Load parameters file\n",
    "with open('setup_param.json', 'r') as handle:\n",
    "    setup_params = json.load(handle)"
   ]
  },
  {
   "cell_type": "code",
   "execution_count": 5,
   "metadata": {},
   "outputs": [],
   "source": [
    "parent_path = setup_params['parent_dir']\n",
    "data_path = setup_params['data_dir']\n",
    "scripts_path = setup_params['scripts_dir']\n",
    "train_csv_path = setup_params['train_csv']\n",
    "test_csv_path = setup_params['test_csv']\n",
    "\n",
    "# Light GBM parameters\n",
    "model_path_0 = setup_params['model_dir_0']\n",
    "\n",
    "# Training and test sets\n",
    "labels_path = setup_params['train_labels']\n",
    "train_data_path = setup_params['stage0_train']\n",
    "\n",
    "test_data_path = setup_params['stage0_test']\n",
    "test_items_path = setup_params['test_items']"
   ]
  },
  {
   "cell_type": "code",
   "execution_count": 6,
   "metadata": {},
   "outputs": [],
   "source": [
    "# Submission path\n",
    "submission_path = model_path_0 + 'submission' + \".csv\""
   ]
  },
  {
   "cell_type": "markdown",
   "metadata": {},
   "source": [
    "## Load Training and Test Data:"
   ]
  },
  {
   "cell_type": "code",
   "execution_count": 7,
   "metadata": {},
   "outputs": [],
   "source": [
    "features_list = ['population', 'area', 'latitude', 'longitude', 'density', 'pcn_0',\\\n",
    "                 'pcn_1', 'pcn_2', 'pcn_3', 'pcn_4', 'pcn_5', 'pcn_6', 'pcn_7',\\\n",
    "                 'pcn_8', 'title_count', 'desc_count', 'usetyp_0', 'usetyp_1',\\\n",
    "                 'usetyp_2', 'price', 'image_top_1']\n",
    "label_name = 'deal_probability'"
   ]
  },
  {
   "cell_type": "code",
   "execution_count": 8,
   "metadata": {},
   "outputs": [],
   "source": [
    "train = pd.read_csv(train_data_path)\n",
    "test = pd.read_csv(test_data_path)\n",
    "\n",
    "dropped_features = [x for x in train.columns.values if x not in features_list]\n",
    "# Drop features (if any)\n",
    "train.drop(labels=dropped_features, axis=1, inplace=True)\n",
    "test.drop(labels=dropped_features, axis=1, inplace=True)"
   ]
  },
  {
   "cell_type": "code",
   "execution_count": 9,
   "metadata": {},
   "outputs": [],
   "source": [
    "if label_name == 'deal_probability':\n",
    "    label_csv = pd.read_csv(labels_path)\n",
    "    label_csv = label_csv.deal_prob.values\n",
    "else:\n",
    "    label_csv = np.asarray(train[label_name])"
   ]
  },
  {
   "cell_type": "code",
   "execution_count": 10,
   "metadata": {},
   "outputs": [],
   "source": [
    "# Standardize data\n",
    "sc = StandardScaler()\n",
    "train = sc.fit_transform(train)\n",
    "test = sc.transform(test)\n",
    "# Reformat into pandas dataframe\n",
    "train = pd.DataFrame(data=train, columns=features_list)\n",
    "test = pd.DataFrame(data=test, columns=features_list)"
   ]
  },
  {
   "cell_type": "code",
   "execution_count": 11,
   "metadata": {},
   "outputs": [],
   "source": [
    "# Get training, validation, and test split\n",
    "train_df, val_df, train_label_df, val_label_df = train_test_split(train, label_csv, test_size=0.2, random_state=0)"
   ]
  },
  {
   "cell_type": "code",
   "execution_count": 12,
   "metadata": {},
   "outputs": [],
   "source": [
    "# Format for LightGBM training\n",
    "d_train = lgb.Dataset(train_df, label=train_label_df)\n",
    "d_val = lgb.Dataset(val_df, label=val_label_df)"
   ]
  },
  {
   "cell_type": "markdown",
   "metadata": {},
   "source": [
    "## Train LightGBM Model:"
   ]
  },
  {
   "cell_type": "code",
   "execution_count": 13,
   "metadata": {},
   "outputs": [
    {
     "name": "stdout",
     "output_type": "stream",
     "text": [
      "Start training...\n",
      "[100]\tvalid_0's rmse: 0.238529\n",
      "[200]\tvalid_0's rmse: 0.235589\n",
      "[300]\tvalid_0's rmse: 0.234525\n",
      "[400]\tvalid_0's rmse: 0.233879\n",
      "[500]\tvalid_0's rmse: 0.233461\n",
      "[600]\tvalid_0's rmse: 0.233183\n",
      "[700]\tvalid_0's rmse: 0.232932\n",
      "[800]\tvalid_0's rmse: 0.232726\n",
      "[900]\tvalid_0's rmse: 0.232573\n",
      "[1000]\tvalid_0's rmse: 0.232438\n"
     ]
    }
   ],
   "source": [
    "print 'Start training...'\n",
    "evals_result = {}  # Record results for plotting\n",
    "lgbm = lgb.train(params, d_train, num_boost_round=1000, valid_sets=[d_val], evals_result=evals_result, \n",
    "                 verbose_eval=100)"
   ]
  },
  {
   "cell_type": "code",
   "execution_count": 14,
   "metadata": {},
   "outputs": [],
   "source": [
    "# Get predictions\n",
    "train_pred = lgbm.predict(train)\n",
    "test_pred=lgbm.predict(test)"
   ]
  },
  {
   "cell_type": "code",
   "execution_count": 15,
   "metadata": {},
   "outputs": [
    {
     "name": "stdout",
     "output_type": "stream",
     "text": [
      "Plot metrics recorded during training...\n"
     ]
    },
    {
     "data": {
      "image/png": "[encoded data removed]",
      "text/plain": [
       "<matplotlib.figure.Figure at 0x1024c6910>"
      ]
     },
     "metadata": {},
     "output_type": "display_data"
    }
   ],
   "source": [
    "print('Plot metrics recorded during training...')\n",
    "ax = lgb.plot_metric(evals_result, metric='rmse', figsize=(12, 7), grid=False)"
   ]
  },
  {
   "cell_type": "code",
   "execution_count": 16,
   "metadata": {},
   "outputs": [
    {
     "name": "stdout",
     "output_type": "stream",
     "text": [
      "Plot feature importances...\n"
     ]
    },
    {
     "data": {
      "image/png": "[encoded data removed]",
      "text/plain": [
       "<matplotlib.figure.Figure at 0x10423a910>"
      ]
     },
     "metadata": {},
     "output_type": "display_data"
    }
   ],
   "source": [
    "print('Plot feature importances...')\n",
    "ax = lgb.plot_importance(lgbm, max_num_features=10, figsize=(12, 7), grid=False)"
   ]
  },
  {
   "cell_type": "code",
   "execution_count": 17,
   "metadata": {},
   "outputs": [],
   "source": [
    "# Make submission script\n",
    "with open(test_items_path, 'rb') as handle:\n",
    "    test_item_id = pickle.load(handle)\n",
    "make_submission(test_pred, test_item_id, submission_path)"
   ]
  }
 ],
 "metadata": {
  "kernelspec": {
   "display_name": "Python 2",
   "language": "python",
   "name": "python2"
  },
  "language_info": {
   "codemirror_mode": {
    "name": "ipython",
    "version": 2
   },
   "file_extension": ".py",
   "mimetype": "text/x-python",
   "name": "python",
   "nbconvert_exporter": "python",
   "pygments_lexer": "ipython2",
   "version": "2.7.14"
  }
 },
 "nbformat": 4,
 "nbformat_minor": 2
}
