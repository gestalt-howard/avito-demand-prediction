{
 "cells": [
  {
   "cell_type": "markdown",
   "metadata": {},
   "source": [
    "# Avito Challenge: Stage 2v0 Model\n",
    "Stage 2 modeling incoprates many inspirations taken from public kernels related to the Avito challenge. Stage 2v0 in particular is based off of https://www.kaggle.com/sudalairajkumar/simple-exploration-baseline-notebook-avito. This this kernel, a relatively simple preprocessing is used in conjunction with a simple Light GBM model."
   ]
  },
  {
   "cell_type": "code",
   "execution_count": 1,
   "metadata": {},
   "outputs": [],
   "source": [
    "import pandas as pd\n",
    "import numpy as np\n",
    "import os\n",
    "import json\n",
    "import pickle\n",
    "\n",
    "import matplotlib.pyplot as plt\n",
    "\n",
    "from sklearn.model_selection import train_test_split\n",
    "from sklearn.preprocessing import StandardScaler\n",
    "\n",
    "from sklearn.metrics import mean_squared_error\n",
    "from sklearn.metrics import log_loss\n",
    "from sklearn.metrics import accuracy_score\n",
    "\n",
    "from sklearn.utils import resample\n",
    "from sklearn.preprocessing import LabelEncoder\n",
    "\n",
    "import lightgbm as lgb"
   ]
  },
  {
   "cell_type": "code",
   "execution_count": 2,
   "metadata": {},
   "outputs": [],
   "source": [
    "# Load parameters file\n",
    "with open('setup_param.json', 'r') as handle:\n",
    "    setup_params = json.load(handle)"
   ]
  },
  {
   "cell_type": "code",
   "execution_count": 3,
   "metadata": {},
   "outputs": [],
   "source": [
    "parent_path = setup_params['parent_dir']\n",
    "data_path = setup_params['data_dir']\n",
    "scripts_path = setup_params['scripts_dir']\n",
    "train_csv_path = setup_params['train_csv']\n",
    "test_csv_path = setup_params['test_csv']\n",
    "\n",
    "# Light GBM parameters\n",
    "model_path_2 = setup_params['model_dir_2']\n",
    "\n",
    "# Training and test sets\n",
    "labels_path = setup_params['train_labels']\n",
    "train_data_path = setup_params['stage0_train']\n",
    "\n",
    "test_data_path = setup_params['stage0_test']\n",
    "test_items_path = setup_params['test_items']"
   ]
  },
  {
   "cell_type": "code",
   "execution_count": 4,
   "metadata": {},
   "outputs": [],
   "source": [
    "# Original training and test dataframes\n",
    "train_df = pd.read_csv(train_csv_path, parse_dates=['activation_date'])\n",
    "test_df = pd.read_csv(test_csv_path, parse_dates=['activation_date'])"
   ]
  },
  {
   "cell_type": "code",
   "execution_count": 5,
   "metadata": {},
   "outputs": [],
   "source": [
    "# Target and ID variables\n",
    "train_y = pd.read_csv(labels_path)\n",
    "train_y = train_y.deal_prob.values\n",
    "with open(test_items_path, 'rb') as handle:\n",
    "    test_id = pickle.load(handle)"
   ]
  },
  {
   "cell_type": "code",
   "execution_count": 6,
   "metadata": {},
   "outputs": [],
   "source": [
    "# New variable on weekday\n",
    "train_df['activation_weekday'] = train_df['activation_date'].dt.weekday\n",
    "test_df['activation_weekday'] = test_df['activation_date'].dt.weekday"
   ]
  },
  {
   "cell_type": "code",
   "execution_count": 7,
   "metadata": {},
   "outputs": [],
   "source": [
    "# Label encode the categorical variables\n",
    "cat_vars = [\"region\", \"city\", \"parent_category_name\", \"category_name\", \"user_type\", \"param_1\", \"param_2\", \"param_3\"]\n",
    "for col in cat_vars:\n",
    "    lbl = LabelEncoder()\n",
    "    train_test_list = list(train_df[col].values.astype('str')) + list(test_df[col].values.astype('str'))\n",
    "    lbl.fit(train_test_list)\n",
    "    train_df[col] = lbl.transform(list(train_df[col].values.astype('str')))\n",
    "    test_df[col] = lbl.transform(list(test_df[col].values.astype('str')))"
   ]
  },
  {
   "cell_type": "code",
   "execution_count": 8,
   "metadata": {},
   "outputs": [],
   "source": [
    "cols_to_drop = [\"item_id\", \"user_id\", \"title\", \"description\", \"activation_date\", \"image\"]\n",
    "train_X = train_df.drop(cols_to_drop + ['deal_probability'], axis=1)\n",
    "test_X = test_df.drop(cols_to_drop, axis=1)"
   ]
  },
  {
   "cell_type": "code",
   "execution_count": 9,
   "metadata": {},
   "outputs": [],
   "source": [
    "# Custom function for LGBM model\n",
    "def run_lgb(train_X, train_y, val_X, val_y, test_X):\n",
    "    params = {\n",
    "        \"objective\" : \"regression\",\n",
    "        \"metric\" : \"rmse\",\n",
    "        \"num_leaves\" : 30,\n",
    "        \"learning_rate\" : 0.01,\n",
    "        \"bagging_fraction\" : 0.7,\n",
    "        \"feature_fraction\" : 0.7,\n",
    "        \"bagging_frequency\" : 5,\n",
    "        \"bagging_seed\" : 2018,\n",
    "        \"verbosity\" : -1\n",
    "    }\n",
    "    \n",
    "    lgtrain = lgb.Dataset(train_X, label=train_y)\n",
    "    lgval = lgb.Dataset(val_X, label=val_y)\n",
    "    evals_result = {}\n",
    "    model = lgb.train(params, lgtrain, 10000, valid_sets=[lgval], early_stopping_rounds=100, verbose_eval=100, \n",
    "                      evals_result=evals_result)\n",
    "    \n",
    "    pred_test_y = model.predict(test_X, num_iteration=model.best_iteration)\n",
    "    return pred_test_y, model, evals_result"
   ]
  },
  {
   "cell_type": "code",
   "execution_count": 10,
   "metadata": {},
   "outputs": [
    {
     "name": "stdout",
     "output_type": "stream",
     "text": [
      "((1303424, 12), (200000, 12), (508438, 12))\n"
     ]
    }
   ],
   "source": [
    "# Split data for training and validation\n",
    "xtrain = train_X.iloc[:-200000,:]\n",
    "xval = train_X.iloc[-200000:,:]\n",
    "ytrain = train_y[:-200000]\n",
    "yval = train_y[-200000:]\n",
    "print(xtrain.shape, xval.shape, test_X.shape)"
   ]
  },
  {
   "cell_type": "code",
   "execution_count": 11,
   "metadata": {},
   "outputs": [
    {
     "name": "stdout",
     "output_type": "stream",
     "text": [
      "Training until validation scores don't improve for 100 rounds.\n",
      "[100]\tvalid_0's rmse: 0.240973\n",
      "[200]\tvalid_0's rmse: 0.236219\n",
      "[300]\tvalid_0's rmse: 0.234409\n",
      "[400]\tvalid_0's rmse: 0.233334\n",
      "[500]\tvalid_0's rmse: 0.232682\n",
      "[600]\tvalid_0's rmse: 0.232225\n",
      "[700]\tvalid_0's rmse: 0.231862\n",
      "[800]\tvalid_0's rmse: 0.231527\n",
      "[900]\tvalid_0's rmse: 0.231263\n",
      "[1000]\tvalid_0's rmse: 0.231024\n",
      "[1100]\tvalid_0's rmse: 0.230818\n",
      "[1200]\tvalid_0's rmse: 0.230632\n",
      "[1300]\tvalid_0's rmse: 0.230465\n",
      "[1400]\tvalid_0's rmse: 0.230315\n",
      "[1500]\tvalid_0's rmse: 0.230177\n",
      "[1600]\tvalid_0's rmse: 0.230046\n",
      "[1700]\tvalid_0's rmse: 0.229945\n",
      "[1800]\tvalid_0's rmse: 0.229839\n",
      "[1900]\tvalid_0's rmse: 0.229744\n",
      "[2000]\tvalid_0's rmse: 0.229662\n",
      "[2100]\tvalid_0's rmse: 0.229566\n",
      "[2200]\tvalid_0's rmse: 0.229485\n",
      "[2300]\tvalid_0's rmse: 0.229418\n",
      "[2400]\tvalid_0's rmse: 0.229344\n",
      "[2500]\tvalid_0's rmse: 0.229276\n",
      "[2600]\tvalid_0's rmse: 0.229199\n",
      "[2700]\tvalid_0's rmse: 0.229137\n",
      "[2800]\tvalid_0's rmse: 0.22907\n",
      "[2900]\tvalid_0's rmse: 0.229009\n",
      "[3000]\tvalid_0's rmse: 0.22895\n",
      "[3100]\tvalid_0's rmse: 0.228897\n",
      "[3200]\tvalid_0's rmse: 0.228841\n",
      "[3300]\tvalid_0's rmse: 0.22879\n",
      "[3400]\tvalid_0's rmse: 0.22874\n",
      "[3500]\tvalid_0's rmse: 0.228688\n",
      "[3600]\tvalid_0's rmse: 0.228634\n",
      "[3700]\tvalid_0's rmse: 0.228584\n",
      "[3800]\tvalid_0's rmse: 0.228535\n",
      "[3900]\tvalid_0's rmse: 0.228494\n",
      "[4000]\tvalid_0's rmse: 0.228452\n",
      "[4100]\tvalid_0's rmse: 0.228406\n",
      "[4200]\tvalid_0's rmse: 0.228364\n",
      "[4300]\tvalid_0's rmse: 0.228322\n",
      "[4400]\tvalid_0's rmse: 0.228282\n",
      "[4500]\tvalid_0's rmse: 0.228247\n",
      "[4600]\tvalid_0's rmse: 0.228212\n",
      "[4700]\tvalid_0's rmse: 0.228178\n",
      "[4800]\tvalid_0's rmse: 0.228153\n",
      "[4900]\tvalid_0's rmse: 0.228125\n",
      "[5000]\tvalid_0's rmse: 0.228095\n",
      "[5100]\tvalid_0's rmse: 0.228066\n",
      "[5200]\tvalid_0's rmse: 0.228037\n",
      "[5300]\tvalid_0's rmse: 0.228009\n",
      "[5400]\tvalid_0's rmse: 0.227975\n",
      "[5500]\tvalid_0's rmse: 0.227948\n",
      "[5600]\tvalid_0's rmse: 0.227922\n",
      "[5700]\tvalid_0's rmse: 0.227899\n",
      "[5800]\tvalid_0's rmse: 0.227872\n",
      "[5900]\tvalid_0's rmse: 0.227849\n",
      "[6000]\tvalid_0's rmse: 0.227825\n",
      "[6100]\tvalid_0's rmse: 0.227801\n",
      "[6200]\tvalid_0's rmse: 0.227779\n",
      "[6300]\tvalid_0's rmse: 0.227756\n",
      "[6400]\tvalid_0's rmse: 0.227732\n",
      "[6500]\tvalid_0's rmse: 0.227711\n",
      "[6600]\tvalid_0's rmse: 0.22769\n",
      "[6700]\tvalid_0's rmse: 0.227671\n",
      "[6800]\tvalid_0's rmse: 0.227655\n",
      "[6900]\tvalid_0's rmse: 0.227635\n",
      "[7000]\tvalid_0's rmse: 0.227618\n",
      "[7100]\tvalid_0's rmse: 0.227598\n",
      "[7200]\tvalid_0's rmse: 0.227583\n",
      "[7300]\tvalid_0's rmse: 0.227567\n",
      "[7400]\tvalid_0's rmse: 0.227551\n",
      "[7500]\tvalid_0's rmse: 0.227533\n",
      "[7600]\tvalid_0's rmse: 0.227517\n",
      "[7700]\tvalid_0's rmse: 0.227496\n",
      "[7800]\tvalid_0's rmse: 0.227477\n",
      "[7900]\tvalid_0's rmse: 0.227462\n",
      "[8000]\tvalid_0's rmse: 0.227448\n",
      "[8100]\tvalid_0's rmse: 0.227427\n",
      "[8200]\tvalid_0's rmse: 0.227411\n",
      "[8300]\tvalid_0's rmse: 0.227398\n",
      "[8400]\tvalid_0's rmse: 0.22738\n",
      "[8500]\tvalid_0's rmse: 0.227365\n",
      "[8600]\tvalid_0's rmse: 0.22735\n",
      "[8700]\tvalid_0's rmse: 0.227337\n",
      "[8800]\tvalid_0's rmse: 0.227325\n",
      "[8900]\tvalid_0's rmse: 0.227311\n",
      "[9000]\tvalid_0's rmse: 0.227296\n",
      "[9100]\tvalid_0's rmse: 0.227283\n",
      "[9200]\tvalid_0's rmse: 0.227268\n",
      "[9300]\tvalid_0's rmse: 0.227253\n",
      "[9400]\tvalid_0's rmse: 0.227242\n",
      "[9500]\tvalid_0's rmse: 0.227225\n",
      "[9600]\tvalid_0's rmse: 0.227213\n",
      "[9700]\tvalid_0's rmse: 0.227198\n",
      "[9800]\tvalid_0's rmse: 0.227182\n",
      "[9900]\tvalid_0's rmse: 0.22717\n",
      "[10000]\tvalid_0's rmse: 0.227157\n",
      "Did not meet early stopping. Best iteration is:\n",
      "[10000]\tvalid_0's rmse: 0.227157\n"
     ]
    }
   ],
   "source": [
    "# Train the model\n",
    "pred_test, model, evals_result = run_lgb(xtrain, ytrain, xval, yval, test_X)"
   ]
  },
  {
   "cell_type": "code",
   "execution_count": 12,
   "metadata": {},
   "outputs": [],
   "source": [
    "# Make a submission file\n",
    "pred_test = np.clip(pred_test, 0, 1)\n",
    "sub_df = pd.DataFrame({\"item_id\":test_id})\n",
    "sub_df[\"deal_probability\"] = pred_test"
   ]
  },
  {
   "cell_type": "code",
   "execution_count": 13,
   "metadata": {},
   "outputs": [],
   "source": [
    "submission_path = model_path_2 + 'baseline_lgb.csv'\n",
    "sub_df.to_csv(submission_path, index=False)"
   ]
  },
  {
   "cell_type": "code",
   "execution_count": 14,
   "metadata": {},
   "outputs": [
    {
     "data": {
      "image/png": "[encoded data removed]",
      "text/plain": [
       "<matplotlib.figure.Figure at 0x148119a90>"
      ]
     },
     "metadata": {},
     "output_type": "display_data"
    }
   ],
   "source": [
    "fig, ax = plt.subplots(figsize=(12,18))\n",
    "lgb.plot_importance(model, max_num_features=50, height=0.8, ax=ax)\n",
    "ax.grid(False)\n",
    "plt.title(\"LightGBM - Feature Importance\", fontsize=15)\n",
    "plt.show()"
   ]
  },
  {
   "cell_type": "code",
   "execution_count": null,
   "metadata": {},
   "outputs": [],
   "source": []
  }
 ],
 "metadata": {
  "kernelspec": {
   "display_name": "Python 2",
   "language": "python",
   "name": "python2"
  },
  "language_info": {
   "codemirror_mode": {
    "name": "ipython",
    "version": 2
   },
   "file_extension": ".py",
   "mimetype": "text/x-python",
   "name": "python",
   "nbconvert_exporter": "python",
   "pygments_lexer": "ipython2",
   "version": "2.7.14"
  }
 },
 "nbformat": 4,
 "nbformat_minor": 2
}
