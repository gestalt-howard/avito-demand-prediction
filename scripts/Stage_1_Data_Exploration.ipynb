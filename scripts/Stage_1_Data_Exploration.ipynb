{
 "cells": [
  {
   "cell_type": "markdown",
   "metadata": {},
   "source": [
    "# Avito - Stage 1 Data Exploration "
   ]
  },
  {
   "cell_type": "code",
   "execution_count": 1,
   "metadata": {},
   "outputs": [],
   "source": [
    "import pandas as pd\n",
    "import numpy as np\n",
    "import os\n",
    "import json\n",
    "import pickle\n",
    "\n",
    "import matplotlib.pyplot as plt\n",
    "\n",
    "from sklearn.model_selection import train_test_split\n",
    "from sklearn.preprocessing import StandardScaler\n",
    "\n",
    "from sklearn.metrics import mean_squared_error\n",
    "from sklearn.metrics import mean_absolute_error\n",
    "\n",
    "import lightgbm as lgb"
   ]
  },
  {
   "cell_type": "markdown",
   "metadata": {},
   "source": [
    "## General Setup:"
   ]
  },
  {
   "cell_type": "code",
   "execution_count": 2,
   "metadata": {},
   "outputs": [],
   "source": [
    "# Load parameters file\n",
    "with open('setup_param.json', 'r') as handle:\n",
    "    setup_params = json.load(handle)"
   ]
  },
  {
   "cell_type": "code",
   "execution_count": 3,
   "metadata": {},
   "outputs": [],
   "source": [
    "parent_path = setup_params['parent_dir']\n",
    "data_path = setup_params['data_dir']\n",
    "scripts_path = setup_params['scripts_dir']\n",
    "train_csv_path = setup_params['train_csv']\n",
    "test_csv_path = setup_params['test_csv']\n",
    "\n",
    "# Training and test sets\n",
    "labels_path = setup_params['train_labels']\n",
    "train_data_path = setup_params['stage0_train']\n",
    "\n",
    "test_data_path = setup_params['stage0_test']\n",
    "test_items_path = setup_params['test_items']"
   ]
  },
  {
   "cell_type": "markdown",
   "metadata": {},
   "source": [
    "## Exploration Goal:\n",
    "With the Stage 0 model complete, the challenge is to now focus on the data pipeline structure. A clear exploit that can be utilized is the fact that most of the training data have \"0\" deal probabilities. This means that the first model in the Stage 1 model should most likely be a binary classifier. \n",
    "\n",
    "From this first model, things become much murkier. However, looking the Feature Importance plots created using the LightGBM API, it is clear that the \"image_top_1\" feature is the most important feature of the ones generated during Stage 0 preprocessing. I will be focusing my efforts on looking into that feature."
   ]
  },
  {
   "cell_type": "markdown",
   "metadata": {},
   "source": [
    "### Verifying Distribution of Training Labels:"
   ]
  },
  {
   "cell_type": "code",
   "execution_count": 4,
   "metadata": {},
   "outputs": [],
   "source": [
    "train_labels = pd.read_csv(labels_path)"
   ]
  },
  {
   "cell_type": "code",
   "execution_count": 5,
   "metadata": {},
   "outputs": [
    {
     "name": "stdout",
     "output_type": "stream",
     "text": [
      "Percentage of 0 in training labels: 0.6482655591503129\n"
     ]
    }
   ],
   "source": [
    "print 'Percentage of 0 in training labels:', train_labels.deal_prob.value_counts().loc[0]/float(train_labels.shape[0])"
   ]
  },
  {
   "cell_type": "markdown",
   "metadata": {},
   "source": [
    "### Looking at image_top_1 Distribution:"
   ]
  },
  {
   "cell_type": "code",
   "execution_count": 6,
   "metadata": {},
   "outputs": [],
   "source": [
    "train = pd.read_csv(train_data_path)\n",
    "test = pd.read_csv(test_data_path)"
   ]
  },
  {
   "cell_type": "code",
   "execution_count": 7,
   "metadata": {},
   "outputs": [
    {
     "data": {
      "image/png": "[encoded data removed]",
      "text/plain": [
       "<matplotlib.figure.Figure at 0x10d650750>"
      ]
     },
     "metadata": {},
     "output_type": "display_data"
    }
   ],
   "source": [
    "train.image_top_1.hist(bins=100, figsize=(12, 7), grid=False)\n",
    "plt.title('Distribution of image_top_1 Features in Training Data')\n",
    "plt.show()"
   ]
  },
  {
   "cell_type": "code",
   "execution_count": 8,
   "metadata": {},
   "outputs": [
    {
     "data": {
      "image/png": "[encoded data removed]",
      "text/plain": [
       "<matplotlib.figure.Figure at 0x10d650450>"
      ]
     },
     "metadata": {},
     "output_type": "display_data"
    }
   ],
   "source": [
    "test.image_top_1.hist(bins=100, figsize=(12, 7), grid=False)\n",
    "plt.title('Distribution of image_top_1 Features in Test Data')\n",
    "plt.show()"
   ]
  },
  {
   "cell_type": "markdown",
   "metadata": {},
   "source": [
    "Looking at the two distributions above, it can be seen that train and test data share similar structures in their distribution of \"image_top_1\" features. Using the information from these two plots, I will be structuring my model to be training on splits of:\n",
    "* Below 250\n",
    "* Between 250 - 2000\n",
    "* Between 2000 - 2500\n",
    "* Above 2500"
   ]
  },
  {
   "cell_type": "code",
   "execution_count": null,
   "metadata": {},
   "outputs": [],
   "source": []
  }
 ],
 "metadata": {
  "kernelspec": {
   "display_name": "Python 2",
   "language": "python",
   "name": "python2"
  },
  "language_info": {
   "codemirror_mode": {
    "name": "ipython",
    "version": 2
   },
   "file_extension": ".py",
   "mimetype": "text/x-python",
   "name": "python",
   "nbconvert_exporter": "python",
   "pygments_lexer": "ipython2",
   "version": "2.7.14"
  }
 },
 "nbformat": 4,
 "nbformat_minor": 2
}
